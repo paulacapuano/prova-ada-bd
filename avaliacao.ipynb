{
 "cells": [
  {
   "cell_type": "markdown",
   "metadata": {},
   "source": [
    "Exercício 1 - Modelagem e normalização de bancos de dados relacionais"
   ]
  },
  {
   "cell_type": "markdown",
   "metadata": {},
   "source": [
    "Modelagem conceitual\n",
    "\n",
    "<p align=\"center\">\n",
    "  <img \n",
    "    src   = \"./modelo-conceitual-2.jpg\" \n",
    "    style = \"\n",
    "      border: 0px solid rgba(0, 0, 0, 0.01);\n",
    "      width: 100%;\n",
    "      height: 100%;\n",
    "    \"\n",
    "  />\n",
    "</p>\n",
    "\n",
    "Atributo multivalorado: telefones_clientes, da tabela Cliente. Está apontado no esquema acima."
   ]
  },
  {
   "cell_type": "markdown",
   "metadata": {},
   "source": [
    "Modelagem lógica\n",
    "\n",
    "<p align=\"center\">\n",
    "  <img \n",
    "    src   = \"./modelo-logico-2.jpg\" \n",
    "    style = \"\n",
    "      border: 0px solid rgba(0, 0, 0, 0.01);\n",
    "      width: 100%;\n",
    "      height: 100%;\n",
    "    \"\n",
    "  />\n",
    "</p>\n",
    "\n",
    "Atributos-chave estão marcados com PK e as chaves estrangeiras com FK. O atributo multivalorado foi separado em duas colunas. A decisão por separar em duas colunas foi tomada com base na quantidade média de telefones de uma pessoa (geralmente um fixo e um celular)."
   ]
  },
  {
   "cell_type": "markdown",
   "metadata": {},
   "source": [
    "Exercício 2 - Consultas SQL simples e complexas em um banco de dados MySQL"
   ]
  },
  {
   "cell_type": "markdown",
   "metadata": {},
   "source": [
    "<font size=\"6\">Importante!</font> Estou usando estrutura <font size=\"6\">MySQL</font> no meu projeto!"
   ]
  },
  {
   "cell_type": "code",
   "execution_count": null,
   "metadata": {
    "vscode": {
     "languageId": "plaintext"
    }
   },
   "outputs": [],
   "source": [
    "CREATE SCHEMA AdaBancoProva;\n",
    "\n",
    "USE AdaBancoProva;\n",
    "\n",
    "CREATE TABLE produto (\n",
    "    id_produto INTEGER PRIMARY KEY AUTO_INCREMENT,\n",
    "    nome_produto VARCHAR(100) NOT NULL,\n",
    "    preco_produto DECIMAL(10, 2) NOT NULL\n",
    ");\n",
    "\n",
    "CREATE TABLE categoria (\n",
    "    id_categoria INTEGER PRIMARY KEY AUTO_INCREMENT,\n",
    "    nome_categoria VARCHAR(100) NOT NULL\n",
    ");\n",
    "\n",
    "INSERT INTO produto VALUES\n",
    "(null, 'air frier', 200.00),\n",
    "(null, 'iPhone', 5000.00),\n",
    "(null, 'caneca', 10.00),\n",
    "(null, 'garrafa termica', 40.00),\n",
    "(null, 'nespresso', 500.00);\n",
    "\n",
    "SELECT * FROM produto;\n",
    "\n",
    "INSERT INTO categoria VALUES\n",
    "(null, 'eletrodomestico'),\n",
    "(null, 'celular'),\n",
    "(null, 'casa'),\n",
    "(null, 'cozinha'),\n",
    "(null, 'tecnologia');\n",
    "\n",
    "SELECT * FROM categoria;\n",
    "\n",
    "CREATE TABLE produtos_categorias (\n",
    "    produto_id INTEGER REFERENCES produto(id_produto),\n",
    "    categoria_id INTEGER REFERENCES categoria(id_categoria),\n",
    "    PRIMARY KEY (produto_id, categoria_id)\n",
    ");\n",
    "\n",
    "INSERT INTO produtos_categorias VALUES\n",
    "(1,1),\n",
    "(1,3),\n",
    "(1,4),\n",
    "(2,2),\n",
    "(2,5),\n",
    "(3,3),\n",
    "(3,4),\n",
    "(4,3),\n",
    "(4,4),\n",
    "(5,1),\n",
    "(5,3),\n",
    "(5,4);\n",
    "\n",
    "SELECT * FROM produtos_categorias;"
   ]
  },
  {
   "cell_type": "markdown",
   "metadata": {},
   "source": [
    "3) Liste os nomes de todos os produtos que custam mais de 100 reais, ordenando-os primeiramente pelo preço e em segundo lugar pelo nome. Use alias para mostrar o nome da coluna nome como \"Produto\" e da coluna preco como \"Valor\". A resposta da consulta não deve mostrar outras colunas de dados."
   ]
  },
  {
   "cell_type": "code",
   "execution_count": null,
   "metadata": {
    "vscode": {
     "languageId": "plaintext"
    }
   },
   "outputs": [],
   "source": [
    "SELECT nome_produto AS Produto, preco_produto AS Valor FROM produto \n",
    "WHERE preco_produto > 100.00\n",
    "ORDER BY preco_produto, nome_produto;"
   ]
  },
  {
   "cell_type": "markdown",
   "metadata": {},
   "source": [
    "4) Liste todos os ids e preços de produtos cujo preço seja maior do que a média de todos os preços encontrados na tabela \"produtos\"."
   ]
  },
  {
   "cell_type": "code",
   "execution_count": null,
   "metadata": {
    "vscode": {
     "languageId": "plaintext"
    }
   },
   "outputs": [],
   "source": [
    "SELECT id_produto, preco_produto FROM produto \n",
    "WHERE preco_produto > (SELECT AVG(preco_produto) AS MediaValor FROM produto);"
   ]
  },
  {
   "cell_type": "markdown",
   "metadata": {},
   "source": [
    "5) Para cada categoria, mostre o preço médio do conjunto de produtos a ela associados. Caso uma categoria não tenha nenhum produto a ela associada, esta categoria não deve aparecer no resultado final. A consulta deve estar ordenada pelos nomes das categorias."
   ]
  },
  {
   "cell_type": "code",
   "execution_count": null,
   "metadata": {
    "vscode": {
     "languageId": "plaintext"
    }
   },
   "outputs": [],
   "source": [
    "SELECT c.nome_categoria AS NomeCategoria, AVG(p.preco_produto) AS MediaPreco\n",
    "FROM categoria c\n",
    "LEFT JOIN produtos_categorias pc ON c.id_categoria = pc.categoria_id\n",
    "LEFT JOIN produto p ON pc.produto_id = p.id_produto\n",
    "GROUP BY c.nome_categoria;"
   ]
  },
  {
   "cell_type": "markdown",
   "metadata": {},
   "source": [
    "Exercício 3 - Inserções, alterações e remoções de objetos e dados em um banco de dados MySQL"
   ]
  },
  {
   "cell_type": "markdown",
   "metadata": {},
   "source": [
    "<font size=\"6\">Importante!</font> Estou usando estrutura <font size=\"6\">MySQL</font> no meu projeto!"
   ]
  },
  {
   "cell_type": "markdown",
   "metadata": {},
   "source": [
    "6) Com o objetivo de demonstrar o seu conhecimento através de um exemplo contextualizado com o dia-a-dia da escola, utilize os comandos do subgrupo de funções DDL para construir o banco de dados simples abaixo, que representa um relacionamento do tipo 1,n entre as entidades \"aluno\" e \"turma\":"
   ]
  },
  {
   "cell_type": "code",
   "execution_count": null,
   "metadata": {
    "vscode": {
     "languageId": "plaintext"
    }
   },
   "outputs": [],
   "source": [
    "CREATE TABLE turma (\n",
    "    id_turma INT PRIMARY KEY AUTO_INCREMENT,\n",
    "    codigo_turma VARCHAR(10),\n",
    "    nome_turma VARCHAR(20)\n",
    ");\n",
    "\n",
    "CREATE TABLE aluno (\n",
    "    id_aluno INT PRIMARY KEY AUTO_INCREMENT,\n",
    "    nome_aluno VARCHAR(130),\n",
    "    aluno_alocado BOOLEAN,\n",
    "    id_turma INT,\n",
    "    FOREIGN KEY (id_turma) REFERENCES turma(id_turma)\n",
    ");"
   ]
  },
  {
   "cell_type": "markdown",
   "metadata": {},
   "source": [
    "a) Inserir pelo menos duas turmas diferentes na tabela de turma;"
   ]
  },
  {
   "cell_type": "code",
   "execution_count": null,
   "metadata": {
    "vscode": {
     "languageId": "plaintext"
    }
   },
   "outputs": [],
   "source": [
    "INSERT INTO turma (codigo_turma, nome_turma) VALUES\n",
    "    ('T001', 'Matemática'),\n",
    "    ('T002', 'História'),\n",
    "    ('T003', 'Ciências');\n",
    "    \n",
    "SELECT * FROM turma;"
   ]
  },
  {
   "cell_type": "markdown",
   "metadata": {},
   "source": [
    "b) Inserir pelo menos 1 aluno alocado em cada uma destas turmas na tabela aluno (todos com NULL na coluna aluno_alocado);"
   ]
  },
  {
   "cell_type": "code",
   "execution_count": null,
   "metadata": {
    "vscode": {
     "languageId": "plaintext"
    }
   },
   "outputs": [],
   "source": [
    "INSERT INTO aluno (nome_aluno, aluno_alocado, id_turma) VALUES\n",
    "    ('João', NULL, 1),\n",
    "    ('Maria', NULL, 2),\n",
    "    ('Pedro', NULL, 1),\n",
    "    ('Ana', NULL, 3); \n",
    "    \n",
    "SELECT * FROM aluno;"
   ]
  },
  {
   "cell_type": "markdown",
   "metadata": {},
   "source": [
    "c) Inserir pelo menos 2 alunos não alocados em nenhuma turma na tabela aluno (todos com NULL na coluna aluno_alocado);"
   ]
  },
  {
   "cell_type": "code",
   "execution_count": null,
   "metadata": {
    "vscode": {
     "languageId": "plaintext"
    }
   },
   "outputs": [],
   "source": [
    "INSERT INTO aluno (nome_aluno, aluno_alocado, id_turma) VALUES\n",
    "    ('José', NULL, NULL),\n",
    "    ('Mateus', NULL, NULL); \n",
    "\n",
    "    SELECT * FROM aluno;"
   ]
  },
  {
   "cell_type": "markdown",
   "metadata": {},
   "source": [
    "d) Atualizar a coluna aluno_alocado da tabela aluno, de modo que os alunos associados a uma disciplina recebam o valor True e alunos não associdos a nenhuma disciplina recebam o falor False para esta coluna."
   ]
  },
  {
   "cell_type": "code",
   "execution_count": null,
   "metadata": {
    "vscode": {
     "languageId": "plaintext"
    }
   },
   "outputs": [],
   "source": [
    "UPDATE aluno\n",
    "SET aluno_alocado = CASE\n",
    "    WHEN id_turma IS NOT NULL THEN TRUE\n",
    "    ELSE FALSE\n",
    "END\n",
    "WHERE id_aluno > 0;\n",
    "\n",
    "--precisei colocar uma clausula de WHERE porque meu MySQL tem um safe updating mode ativado que não permite update sem where"
   ]
  }
 ],
 "metadata": {
  "language_info": {
   "name": "python"
  },
  "orig_nbformat": 4
 },
 "nbformat": 4,
 "nbformat_minor": 2
}
